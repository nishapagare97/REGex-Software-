{
  "nbformat": 4,
  "nbformat_minor": 0,
  "metadata": {
    "colab": {
      "name": "REGX task 2 ",
      "provenance": [],
      "collapsed_sections": []
    },
    "kernelspec": {
      "name": "python3",
      "display_name": "Python 3"
    },
    "language_info": {
      "name": "python"
    }
  },
  "cells": [
    {
      "cell_type": "code",
      "metadata": {
        "id": "RONOBn9E1SDc"
      },
      "source": [
        ""
      ],
      "execution_count": null,
      "outputs": []
    },
    {
      "cell_type": "markdown",
      "metadata": {
        "id": "ElbxG_K02DBk"
      },
      "source": [
        "\n",
        "\n",
        "1.  Task 2\n",
        "2.   Registration id -SIRSS2246\n",
        "  \n",
        "\n",
        "   Name - Nisha R Pagare\n",
        "  \n",
        "\n",
        "\n",
        "\n"
      ]
    },
    {
      "cell_type": "markdown",
      "metadata": {
        "id": "5W10j2Hq22Pz"
      },
      "source": [
        "**Q1. Write a lambda expression to extract first word of a string.**"
      ]
    },
    {
      "cell_type": "code",
      "metadata": {
        "colab": {
          "base_uri": "https://localhost:8080/"
        },
        "id": "WVDMn6Qa2O63",
        "outputId": "aacf45e7-9b27-4abd-8738-37383975ff87"
      },
      "source": [
        "a = 'They call me master.'\n",
        "x = lambda s : s.split()[0]\n",
        "print(x(a))"
      ],
      "execution_count": 1,
      "outputs": [
        {
          "output_type": "stream",
          "text": [
            "They\n"
          ],
          "name": "stdout"
        }
      ]
    },
    {
      "cell_type": "markdown",
      "metadata": {
        "id": "Is6jfI_j3QjB"
      },
      "source": [
        "**Q.2 Write a function to extract first word of s string (with many words separated by space).**"
      ]
    },
    {
      "cell_type": "code",
      "metadata": {
        "colab": {
          "base_uri": "https://localhost:8080/"
        },
        "id": "xj-qdUvr3TGe",
        "outputId": "ce4649c2-8379-4de3-9c60-5e8437b046b5"
      },
      "source": [
        "a = \"Write a function to extract first word of s string (with many words separated by space).\"\n",
        "def func(s):\n",
        "  return s.split()[0]\n",
        "print(func(a))"
      ],
      "execution_count": 2,
      "outputs": [
        {
          "output_type": "stream",
          "text": [
            "Write\n"
          ],
          "name": "stdout"
        }
      ]
    },
    {
      "cell_type": "markdown",
      "metadata": {
        "id": "m_uAoz7w3aL4"
      },
      "source": [
        "**Q.3 Extract the first word from every string from a list of strings by using map function.**"
      ]
    },
    {
      "cell_type": "code",
      "metadata": {
        "colab": {
          "base_uri": "https://localhost:8080/"
        },
        "id": "4-_m2PBw3cx2",
        "outputId": "f41c84eb-ff08-4873-e603-43d3e8bc052a"
      },
      "source": [
        "l = ['Iron Man', 'Captain America', 'Doctor Strange']\n",
        "list(map(func,l))"
      ],
      "execution_count": 3,
      "outputs": [
        {
          "output_type": "execute_result",
          "data": {
            "text/plain": [
              "['Iron', 'Captain', 'Doctor']"
            ]
          },
          "metadata": {
            "tags": []
          },
          "execution_count": 3
        }
      ]
    },
    {
      "cell_type": "markdown",
      "metadata": {
        "id": "rhY3hnq33h5m"
      },
      "source": [
        "**Q.4 Write a function to return a list of prime factors of a given number.**"
      ]
    },
    {
      "cell_type": "code",
      "metadata": {
        "colab": {
          "base_uri": "https://localhost:8080/"
        },
        "id": "NLGj0wc53koN",
        "outputId": "508a5321-5f0a-40b2-ecae-c96bb0d17158"
      },
      "source": [
        "def PrimeFactor(x):\n",
        "    prime_fact = []\n",
        "    d = 2\n",
        "\n",
        "    while d <= x:\n",
        "        if x % d == 0:\n",
        "            prime_fact.append(d)\n",
        "            x = x/d\n",
        "        else:\n",
        "            d += 1\n",
        "    return prime_fact\n",
        "\n",
        "print(PrimeFactor(756))"
      ],
      "execution_count": 4,
      "outputs": [
        {
          "output_type": "stream",
          "text": [
            "[2, 2, 3, 3, 3, 7]\n"
          ],
          "name": "stdout"
        }
      ]
    },
    {
      "cell_type": "markdown",
      "metadata": {
        "id": "oJrP_0DU3rhb"
      },
      "source": [
        "**.5 Write a function that finds 2nd largest among 4 numbers (Repetitions are allowed, without sorting).**"
      ]
    },
    {
      "cell_type": "code",
      "metadata": {
        "colab": {
          "base_uri": "https://localhost:8080/"
        },
        "id": "6bmN-vOH3uRB",
        "outputId": "c70162b4-df30-4139-f317-320fc973413d"
      },
      "source": [
        "a = []\n",
        "for i in range(5):\n",
        "  b = int(input(\"ENter 5 numbers :  \"))\n",
        "  a.append(b)\n",
        "c = set(a)\n",
        "c.remove(max(c))\n",
        "print(max(c))"
      ],
      "execution_count": 5,
      "outputs": [
        {
          "output_type": "stream",
          "text": [
            "ENter 5 numbers :  99\n",
            "ENter 5 numbers :  999\n",
            "ENter 5 numbers :  969\n",
            "ENter 5 numbers :  922\n",
            "ENter 5 numbers :  985\n",
            "985\n"
          ],
          "name": "stdout"
        }
      ]
    }
  ]
}