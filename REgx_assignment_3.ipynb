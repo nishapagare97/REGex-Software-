{
  "nbformat": 4,
  "nbformat_minor": 0,
  "metadata": {
    "colab": {
      "name": "REgx assignment 3 ",
      "provenance": [],
      "collapsed_sections": []
    },
    "kernelspec": {
      "name": "python3",
      "display_name": "Python 3"
    },
    "language_info": {
      "name": "python"
    }
  },
  "cells": [
    {
      "cell_type": "markdown",
      "metadata": {
        "id": "9aw0rfMqRkQL"
      },
      "source": [
        "Assignment 3\n",
        "\n",
        "*  Register Id: SIRSS2246\n",
        "\n",
        "\n",
        "\n",
        "\n",
        "\n",
        "\n",
        "\n",
        "\n",
        "*   Name: Nisha Pagare\n",
        "*  College: Symbiosis institute of geoinformatics\n",
        "\n",
        "\n",
        "\n",
        "\n"
      ]
    },
    {
      "cell_type": "markdown",
      "metadata": {
        "id": "7MKOcOsSTbAb"
      },
      "source": [
        "1. Function to return nth term Fibonacci series"
      ]
    },
    {
      "cell_type": "code",
      "metadata": {
        "colab": {
          "base_uri": "https://localhost:8080/"
        },
        "id": "UD-LkPZqSzcR",
        "outputId": "a993a283-c892-41e9-d7cb-160c94047838"
      },
      "source": [
        "def fibo(n):\n",
        "    a=1\n",
        "    b=1\n",
        "    if n==1:\n",
        "        print('0')\n",
        "    elif n==2:\n",
        "        print('0','1')\n",
        "    else:\n",
        "        print('0',a,b,end=' ')\n",
        "        for i in range(n-3):\n",
        "            total = a + b\n",
        "            b=a\n",
        "            a= total\n",
        "            print(total,end=' ')\n",
        "        \n",
        "        \n",
        "         \n",
        "n=int(input(\"Enter the number:\"))\n",
        "fibo(n)"
      ],
      "execution_count": 1,
      "outputs": [
        {
          "output_type": "stream",
          "text": [
            "Enter the number:10\n",
            "0 1 1 2 3 5 8 13 21 34 "
          ],
          "name": "stdout"
        }
      ]
    },
    {
      "cell_type": "code",
      "metadata": {
        "id": "ukgYnQ3VTfB3"
      },
      "source": [
        "2. GCD of two numbers using EUCLID's Algorithm¶"
      ],
      "execution_count": null,
      "outputs": []
    },
    {
      "cell_type": "code",
      "metadata": {
        "colab": {
          "base_uri": "https://localhost:8080/",
          "height": 128
        },
        "id": "BMH3CgNET1gk",
        "outputId": "a4d7bfa7-fd53-49a1-9a1f-11be2dd86524"
      },
      "source": [
        "4def gcd(a,b):\n",
        "    if a< b: \n",
        "        (a,b) = (b,a)\n",
        "    while (a % b != 0):\n",
        "        (a, b) = (b, a % b)\n",
        "    return b\n",
        "\n",
        "a=int(input(\"Enter first number:\"))\n",
        "b=int(input(\"Enter second number:\"))\n",
        "print(gcd(a,b))"
      ],
      "execution_count": 7,
      "outputs": [
        {
          "output_type": "error",
          "ename": "SyntaxError",
          "evalue": "ignored",
          "traceback": [
            "\u001b[0;36m  File \u001b[0;32m\"<ipython-input-7-e4da27b75c6c>\"\u001b[0;36m, line \u001b[0;32m1\u001b[0m\n\u001b[0;31m    4def gcd(a,b):\u001b[0m\n\u001b[0m       ^\u001b[0m\n\u001b[0;31mSyntaxError\u001b[0m\u001b[0;31m:\u001b[0m invalid syntax\n"
          ]
        }
      ]
    },
    {
      "cell_type": "markdown",
      "metadata": {
        "id": "QvKeL3T-UkvX"
      },
      "source": [
        "3.LCM of two numbers in most optimizer way.¶"
      ]
    },
    {
      "cell_type": "code",
      "metadata": {
        "colab": {
          "base_uri": "https://localhost:8080/"
        },
        "id": "8yCueJzpUpp1",
        "outputId": "4c1b620d-7555-4ba7-a6da-abcdf6490211"
      },
      "source": [
        "def gcd(x, y):\n",
        "\n",
        "   while(y):\n",
        "       x, y = y, x % y\n",
        "   return x\n",
        "\n",
        "\n",
        "def lcm(x, y):\n",
        "   lcm = (x*y)//gcd(x,y)\n",
        "   return lcm\n",
        "\n",
        "num1 = int(input(\"Enter the first number:\"))\n",
        "num2 = int(input(\"Enter the second number:\"))\n",
        "print(\"The LCM of these numbers :\", lcm(num1,num2) )"
      ],
      "execution_count": 8,
      "outputs": [
        {
          "output_type": "stream",
          "text": [
            "Enter the first number:8\n",
            "Enter the second number:5\n",
            "The LCM of these numbers : 40\n"
          ],
          "name": "stdout"
        }
      ]
    }
  ]
}