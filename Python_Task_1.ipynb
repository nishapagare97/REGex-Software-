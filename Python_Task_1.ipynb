{
  "nbformat": 4,
  "nbformat_minor": 0,
  "metadata": {
    "colab": {
      "name": "Python Task 1 ",
      "provenance": [],
      "collapsed_sections": []
    },
    "kernelspec": {
      "name": "python3",
      "display_name": "Python 3"
    },
    "language_info": {
      "name": "python"
    }
  },
  "cells": [
    {
      "cell_type": "code",
      "metadata": {
        "id": "HXXyV0woxSC7"
      },
      "source": [
        ""
      ],
      "execution_count": null,
      "outputs": []
    },
    {
      "cell_type": "markdown",
      "metadata": {
        "id": "8TEr1lXbxVCb"
      },
      "source": [
        "#Task 1\n"
      ]
    },
    {
      "cell_type": "code",
      "metadata": {
        "id": "DKs0I-upxYYL"
      },
      "source": [
        ""
      ],
      "execution_count": null,
      "outputs": []
    },
    {
      "cell_type": "markdown",
      "metadata": {
        "id": "xUyyvcMHxbfP"
      },
      "source": [
        "Nisha Ramesh Pagare \n",
        "ID - SIRSS2246"
      ]
    },
    {
      "cell_type": "markdown",
      "metadata": {
        "id": "efwZPF1myL5b"
      },
      "source": [
        "Q1 555555\n",
        "   5555\n",
        "   555\n",
        "   55\n",
        "   5"
      ]
    },
    {
      "cell_type": "code",
      "metadata": {
        "colab": {
          "base_uri": "https://localhost:8080/"
        },
        "id": "-2hARN9ayvGL",
        "outputId": "671d1a3e-d46d-40d9-c6f4-6a0b2d547518"
      },
      "source": [
        "for i in range (6,1,-1):\n",
        "  for j in range (i,1,-1):\n",
        "    print(\"5\", end =\" \")\n",
        "  print()"
      ],
      "execution_count": 23,
      "outputs": [
        {
          "output_type": "stream",
          "text": [
            "5 5 5 5 5 \n",
            "5 5 5 5 \n",
            "5 5 5 \n",
            "5 5 \n",
            "5 \n"
          ],
          "name": "stdout"
        }
      ]
    },
    {
      "cell_type": "markdown",
      "metadata": {
        "id": "kC-MD-Zq0PJJ"
      },
      "source": [
        "Q2\n",
        "\n",
        "\n",
        "1.   012345\n",
        "01234\n",
        "0123\n",
        "012\n",
        "01\n",
        "\n",
        "\n",
        "\n",
        "\n",
        "\n"
      ]
    },
    {
      "cell_type": "code",
      "metadata": {
        "colab": {
          "base_uri": "https://localhost:8080/"
        },
        "id": "GrMdqRF60oiz",
        "outputId": "aad4bcc8-944c-47c7-ca79-b9b8940d262a"
      },
      "source": [
        "for i in range (6,1,-1):\n",
        "  for j in range (0,i,1):\n",
        "    print(j, end =\" \")\n",
        "  print()"
      ],
      "execution_count": 25,
      "outputs": [
        {
          "output_type": "stream",
          "text": [
            "0 1 2 3 4 5 \n",
            "0 1 2 3 4 \n",
            "0 1 2 3 \n",
            "0 1 2 \n",
            "0 1 \n"
          ],
          "name": "stdout"
        }
      ]
    },
    {
      "cell_type": "markdown",
      "metadata": {
        "id": "cO8Te8YT0t_H"
      },
      "source": [
        "Q 3 - 1 33 555 7777 99999"
      ]
    },
    {
      "cell_type": "code",
      "metadata": {
        "colab": {
          "base_uri": "https://localhost:8080/"
        },
        "id": "SnVaqbI_04Yk",
        "outputId": "1d3de76d-6bec-4907-c92a-08cd63cdb358"
      },
      "source": [
        "for i in range (1,6,1):\n",
        "  for j in range (0,i,1):\n",
        "    print(2*i-1, end =\" \")\n",
        "  print()"
      ],
      "execution_count": 27,
      "outputs": [
        {
          "output_type": "stream",
          "text": [
            "1 \n",
            "3 3 \n",
            "5 5 5 \n",
            "7 7 7 7 \n",
            "9 9 9 9 9 \n"
          ],
          "name": "stdout"
        }
      ]
    },
    {
      "cell_type": "markdown",
      "metadata": {
        "id": "uOA4iMCY0-Nm"
      },
      "source": [
        "Q4 - 1\n",
        "21\n",
        "321\n",
        "4321\n",
        "54321"
      ]
    },
    {
      "cell_type": "code",
      "metadata": {
        "colab": {
          "base_uri": "https://localhost:8080/"
        },
        "id": "F7rOGryt1F2B",
        "outputId": "d8c55d6c-ae1b-45a0-dc3e-b9de02c25224"
      },
      "source": [
        "for i in range (1,6,1):\n",
        "  for j in range (0,i,1):\n",
        "    print(i-j, end =\" \")\n",
        "  print()\n",
        "1 "
      ],
      "execution_count": 7,
      "outputs": [
        {
          "output_type": "stream",
          "text": [
            "1 \n",
            "2 1 \n",
            "3 2 1 \n",
            "4 3 2 1 \n",
            "5 4 3 2 1 \n"
          ],
          "name": "stdout"
        },
        {
          "output_type": "execute_result",
          "data": {
            "text/plain": [
              "1"
            ]
          },
          "metadata": {
            "tags": []
          },
          "execution_count": 7
        }
      ]
    },
    {
      "cell_type": "markdown",
      "metadata": {
        "id": "yRr7PHle1LMj"
      },
      "source": [
        "Q5 - 1 32 654 10 9 8 7"
      ]
    },
    {
      "cell_type": "code",
      "metadata": {
        "colab": {
          "base_uri": "https://localhost:8080/"
        },
        "id": "9Fu_NGMK1X_H",
        "outputId": "fe2f0714-6f8e-45b2-ba34-a9fa1044f7de"
      },
      "source": [
        "k=1\n",
        "for i in range (1,5,1):\n",
        "  for j in range (0,i,1):\n",
        "    print(k-j, end =\" \")\n",
        "  k=k+i+1\n",
        "  print()"
      ],
      "execution_count": 8,
      "outputs": [
        {
          "output_type": "stream",
          "text": [
            "1 \n",
            "3 2 \n",
            "6 5 4 \n",
            "10 9 8 7 \n"
          ],
          "name": "stdout"
        }
      ]
    },
    {
      "cell_type": "markdown",
      "metadata": {
        "id": "CDQjY-Mz1fzW"
      },
      "source": [
        "Q6 - 1\n",
        "11\n",
        "121\n",
        "1331\n",
        "14641\n",
        "1 5 10 10 5 1\n",
        "1 6 15 20 15 6 1 "
      ]
    },
    {
      "cell_type": "code",
      "metadata": {
        "colab": {
          "base_uri": "https://localhost:8080/"
        },
        "id": "5gVDq9_G1wLX",
        "outputId": "24a2a503-3719-4468-ffd0-3cbf7d351f1a"
      },
      "source": [
        "n=int(input(\"Enter the row number\"))\n",
        "list1 = []\n",
        "for i in range(n):\n",
        "    temp_list=[]\n",
        "    for j in range(i+1):\n",
        "        if j==0 or j==i:\n",
        "            temp_list.append(1)\n",
        "        else:\n",
        "            temp_list.append(list1[i-1][j-1] + list1[i-1][j])\n",
        "    list1.append(temp_list)\n",
        "    \n",
        "for i in range(n):\n",
        "    for j in range(i+1):\n",
        "        print(list1[i][j], end=\" \")\n",
        "    print()"
      ],
      "execution_count": 11,
      "outputs": [
        {
          "output_type": "stream",
          "text": [
            "Enter the row number10\n",
            "1 \n",
            "1 1 \n",
            "1 2 1 \n",
            "1 3 3 1 \n",
            "1 4 6 4 1 \n",
            "1 5 10 10 5 1 \n",
            "1 6 15 20 15 6 1 \n",
            "1 7 21 35 35 21 7 1 \n",
            "1 8 28 56 70 56 28 8 1 \n",
            "1 9 36 84 126 126 84 36 9 1 \n"
          ],
          "name": "stdout"
        }
      ]
    },
    {
      "cell_type": "markdown",
      "metadata": {
        "id": "qlH_0LB13nC-"
      },
      "source": [
        "Q7- \n",
        "1 2 3 4 5\n",
        "2 2 3 4 5\n",
        "3 3 3 4 5\n",
        "4 4 4 4 5\n",
        "5 5 5 5 5"
      ]
    },
    {
      "cell_type": "code",
      "metadata": {
        "colab": {
          "base_uri": "https://localhost:8080/"
        },
        "id": "R_-TFN_n3wKl",
        "outputId": "d8317a7e-85af-4227-eea9-a4b05435b053"
      },
      "source": [
        "for i in range(1,6):\n",
        "  for j in range (1,6):\n",
        "    if i>j:\n",
        "      print(i,end=\"\")\n",
        "    else:\n",
        "      print(j,end=\"\")\n",
        "  print()"
      ],
      "execution_count": 12,
      "outputs": [
        {
          "output_type": "stream",
          "text": [
            "12345\n",
            "22345\n",
            "33345\n",
            "44445\n",
            "55555\n"
          ],
          "name": "stdout"
        }
      ]
    },
    {
      "cell_type": "markdown",
      "metadata": {
        "id": "RdEyGLHi36LJ"
      },
      "source": [
        "Q8 - \n",
        "1 2 4 3 6 9 4 8 12 16 5 10 15 20 25 6 12 18 24 30 36 7 14 21 28 35 42 49 8 16 24 32 40 48 56 64"
      ]
    },
    {
      "cell_type": "code",
      "metadata": {
        "colab": {
          "base_uri": "https://localhost:8080/"
        },
        "id": "Rdk-cGC84ABU",
        "outputId": "5ba159f9-33b1-4354-81fb-1e00ee2610c1"
      },
      "source": [
        "for i in range(1,9):\n",
        "    x=1\n",
        "    for j in range(1,i+1):\n",
        "        n=i*x\n",
        "        print(n, end=\" \")\n",
        "        x+=1\n",
        "    print()"
      ],
      "execution_count": 13,
      "outputs": [
        {
          "output_type": "stream",
          "text": [
            "1 \n",
            "2 4 \n",
            "3 6 9 \n",
            "4 8 12 16 \n",
            "5 10 15 20 25 \n",
            "6 12 18 24 30 36 \n",
            "7 14 21 28 35 42 49 \n",
            "8 16 24 32 40 48 56 64 \n"
          ],
          "name": "stdout"
        }
      ]
    },
    {
      "cell_type": "markdown",
      "metadata": {
        "id": "ZNYnqBIW4Ttd"
      },
      "source": [
        "Q 9-\n",
        "* * * * * * * * * * * * * * * * * * * * *\n",
        "\n"
      ]
    },
    {
      "cell_type": "code",
      "metadata": {
        "colab": {
          "base_uri": "https://localhost:8080/"
        },
        "id": "Ba3S3wwE4bOQ",
        "outputId": "af5f25b0-f997-4b8c-96c6-202e8667046b"
      },
      "source": [
        "n=int(input(\"Enter a number\"))\n",
        "for i in range(n,0,-1):\n",
        "    print(\" \"*(n-i)+\"* \"*i)"
      ],
      "execution_count": 15,
      "outputs": [
        {
          "output_type": "stream",
          "text": [
            "Enter a number5\n",
            "* * * * * \n",
            " * * * * \n",
            "  * * * \n",
            "   * * \n",
            "    * \n"
          ],
          "name": "stdout"
        }
      ]
    },
    {
      "cell_type": "markdown",
      "metadata": {
        "id": "sb6vbUbq4eZB"
      },
      "source": [
        "Q10 - \n",
        "* * * * * * * * * * * * * * * * * * * * * * * * * * * *"
      ]
    },
    {
      "cell_type": "code",
      "metadata": {
        "colab": {
          "base_uri": "https://localhost:8080/"
        },
        "id": "qnaBUGRq4mVA",
        "outputId": "9e8079bf-6960-456c-9ff9-71931019934f"
      },
      "source": [
        "n=int(input(\"Enter a number\"))\n",
        "for i in range(1,n+1):\n",
        "    print(\" \"*(n-i)+\"* \"*i)"
      ],
      "execution_count": 17,
      "outputs": [
        {
          "output_type": "stream",
          "text": [
            "Enter a number6\n",
            "     * \n",
            "    * * \n",
            "   * * * \n",
            "  * * * * \n",
            " * * * * * \n",
            "* * * * * * \n"
          ],
          "name": "stdout"
        }
      ]
    },
    {
      "cell_type": "markdown",
      "metadata": {
        "id": "4zLAzvNV4scV"
      },
      "source": [
        "Q 11-\n"
      ]
    },
    {
      "cell_type": "code",
      "metadata": {
        "colab": {
          "base_uri": "https://localhost:8080/"
        },
        "id": "kbSmk7_f4ukC",
        "outputId": "ad87f4b3-7910-43ce-a3c3-3fec48d51333"
      },
      "source": [
        "for i in range(1,7):\n",
        "    print(\"* \"*i)\n",
        "    \n",
        "    \n",
        "print()\n",
        "for i in range(6,0,-1):\n",
        "    print(\"* \"*i)"
      ],
      "execution_count": 18,
      "outputs": [
        {
          "output_type": "stream",
          "text": [
            "* \n",
            "* * \n",
            "* * * \n",
            "* * * * \n",
            "* * * * * \n",
            "* * * * * * \n",
            "\n",
            "* * * * * * \n",
            "* * * * * \n",
            "* * * * \n",
            "* * * \n",
            "* * \n",
            "* \n"
          ],
          "name": "stdout"
        }
      ]
    },
    {
      "cell_type": "markdown",
      "metadata": {
        "id": "NK9xeWVZ4156"
      },
      "source": [
        "Q 12 - \n"
      ]
    },
    {
      "cell_type": "code",
      "metadata": {
        "colab": {
          "base_uri": "https://localhost:8080/"
        },
        "id": "DVWvuSDY44SX",
        "outputId": "5cc0a93c-2717-4b12-8b8d-f4a8ef202a45"
      },
      "source": [
        "for i in range(1,6):\n",
        "    print(\"* \"*i)\n",
        "for i in range(4,0,-1):\n",
        "    print(\"* \"*i)"
      ],
      "execution_count": 19,
      "outputs": [
        {
          "output_type": "stream",
          "text": [
            "* \n",
            "* * \n",
            "* * * \n",
            "* * * * \n",
            "* * * * * \n",
            "* * * * \n",
            "* * * \n",
            "* * \n",
            "* \n"
          ],
          "name": "stdout"
        }
      ]
    },
    {
      "cell_type": "markdown",
      "metadata": {
        "id": "k9Vb3Mku4-nj"
      },
      "source": [
        "Q 13 - \n"
      ]
    },
    {
      "cell_type": "code",
      "metadata": {
        "colab": {
          "base_uri": "https://localhost:8080/"
        },
        "id": "grs5FuzD5COQ",
        "outputId": "b7c4f7b8-c477-49db-ec2c-d66bcd55ee41"
      },
      "source": [
        "n=int(input(\"Enter a number\"))\n",
        "for i in range(1,n+1):\n",
        "    print(\"  \"*(n-i)+\"* \"*i)\n",
        "for i in range(n-1,0,-1):\n",
        "    print(\"  \"*(n-i)+\"* \"*i)"
      ],
      "execution_count": 20,
      "outputs": [
        {
          "output_type": "stream",
          "text": [
            "Enter a number20\n",
            "                                      * \n",
            "                                    * * \n",
            "                                  * * * \n",
            "                                * * * * \n",
            "                              * * * * * \n",
            "                            * * * * * * \n",
            "                          * * * * * * * \n",
            "                        * * * * * * * * \n",
            "                      * * * * * * * * * \n",
            "                    * * * * * * * * * * \n",
            "                  * * * * * * * * * * * \n",
            "                * * * * * * * * * * * * \n",
            "              * * * * * * * * * * * * * \n",
            "            * * * * * * * * * * * * * * \n",
            "          * * * * * * * * * * * * * * * \n",
            "        * * * * * * * * * * * * * * * * \n",
            "      * * * * * * * * * * * * * * * * * \n",
            "    * * * * * * * * * * * * * * * * * * \n",
            "  * * * * * * * * * * * * * * * * * * * \n",
            "* * * * * * * * * * * * * * * * * * * * \n",
            "  * * * * * * * * * * * * * * * * * * * \n",
            "    * * * * * * * * * * * * * * * * * * \n",
            "      * * * * * * * * * * * * * * * * * \n",
            "        * * * * * * * * * * * * * * * * \n",
            "          * * * * * * * * * * * * * * * \n",
            "            * * * * * * * * * * * * * * \n",
            "              * * * * * * * * * * * * * \n",
            "                * * * * * * * * * * * * \n",
            "                  * * * * * * * * * * * \n",
            "                    * * * * * * * * * * \n",
            "                      * * * * * * * * * \n",
            "                        * * * * * * * * \n",
            "                          * * * * * * * \n",
            "                            * * * * * * \n",
            "                              * * * * * \n",
            "                                * * * * \n",
            "                                  * * * \n",
            "                                    * * \n",
            "                                      * \n"
          ],
          "name": "stdout"
        }
      ]
    },
    {
      "cell_type": "markdown",
      "metadata": {
        "id": "D4Vl2yq27lhK"
      },
      "source": [
        "Q 14 -\n"
      ]
    },
    {
      "cell_type": "code",
      "metadata": {
        "colab": {
          "base_uri": "https://localhost:8080/"
        },
        "id": "_GJ2gu2H7n_Q",
        "outputId": "bc86fe68-6ea4-4a9e-9d9e-f4cada827a75"
      },
      "source": [
        "n=int(input(\"Enter a number\"))\n",
        "for i in range(n,0,-1):\n",
        "    print(\" \"*(n-i)+\"* \"*i)\n",
        "for i in range(1,n+1):\n",
        "    print(\" \"*(n-i)+\"* \"*i)"
      ],
      "execution_count": 21,
      "outputs": [
        {
          "output_type": "stream",
          "text": [
            "Enter a number6\n",
            "* * * * * * \n",
            " * * * * * \n",
            "  * * * * \n",
            "   * * * \n",
            "    * * \n",
            "     * \n",
            "     * \n",
            "    * * \n",
            "   * * * \n",
            "  * * * * \n",
            " * * * * * \n",
            "* * * * * * \n"
          ],
          "name": "stdout"
        }
      ]
    },
    {
      "cell_type": "markdown",
      "metadata": {
        "id": "AQDUZ50Z7xYM"
      },
      "source": [
        "Q 15 - \n"
      ]
    },
    {
      "cell_type": "code",
      "metadata": {
        "colab": {
          "base_uri": "https://localhost:8080/"
        },
        "id": "USAWeQST70Ks",
        "outputId": "6fa561e4-dc88-4a11-ed08-55037d6025c8"
      },
      "source": [
        "for i in range(1,9):\n",
        "    for j in range(1,17):\n",
        "        if(j<=9-i or j>=8+i):\n",
        "            print(\"*\", end=\"\")\n",
        "        else:\n",
        "            print(\"_\",end=\"\")\n",
        "    print()"
      ],
      "execution_count": 22,
      "outputs": [
        {
          "output_type": "stream",
          "text": [
            "****************\n",
            "*******__*******\n",
            "******____******\n",
            "*****______*****\n",
            "****________****\n",
            "***__________***\n",
            "**____________**\n",
            "*______________*\n"
          ],
          "name": "stdout"
        }
      ]
    },
    {
      "cell_type": "code",
      "metadata": {
        "id": "4meJ1MJb0deD"
      },
      "source": [
        ""
      ],
      "execution_count": null,
      "outputs": []
    }
  ]
}